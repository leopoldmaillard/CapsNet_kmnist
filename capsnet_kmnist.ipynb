{
 "cells": [
  {
   "cell_type": "markdown",
   "metadata": {},
   "source": [
    "# Chargement du dataset Kuzushiji-MNIST"
   ]
  },
  {
   "cell_type": "markdown",
   "metadata": {},
   "source": [
    "**Motivation :** Kuzushiji-MNIST propose une alternative plus difficile à MNIST. En effet, la plupars des modèles de Deep Learning récents sont capables d'obtenir plus de 99.5% d'accuracy sur MNIST, c'est pourquoi il peut être intéressant d'évaluer un modèle sur des dataset plus challengeant. \n",
    "\n",
    "Kuzushiji-MNIST propose 70 000 images de caractères issus de la littérature japonaise classique. A l'instar de MNIST, le dataset original comporte 10 classes de caractères. K-MNIST est également décliné en 2 autres dataset plus difficiles :\n",
    "- Kuzushiji-49 contient 270,912 images divisées en 49 classes *imbalanced*.\n",
    "- Kuzushiji-Kanji contient 140 426 images divisées en 3832 classes de caractères très *imbalanced* : certains caractères ne sont présents qu'une et unique fois dans le dataset, rendant impossible un découpage *train* / *valid*."
   ]
  },
  {
   "cell_type": "markdown",
   "metadata": {},
   "source": [
    "### Download K-MNIST"
   ]
  },
  {
   "cell_type": "code",
   "execution_count": 35,
   "metadata": {},
   "outputs": [],
   "source": [
    "import numpy as np\n",
    "import matplotlib.pyplot as plt\n",
    "import tensorflow as tf"
   ]
  },
  {
   "cell_type": "code",
   "execution_count": 5,
   "metadata": {},
   "outputs": [
    {
     "name": "stdout",
     "output_type": "stream",
     "text": [
      "--2021-03-21 00:07:10--  http://codh.rois.ac.jp/kmnist/dataset/kmnist/kmnist-train-imgs.npz\n",
      "Résolution de codh.rois.ac.jp (codh.rois.ac.jp)… 136.187.88.58\n",
      "Connexion à codh.rois.ac.jp (codh.rois.ac.jp)|136.187.88.58|:80… connecté.\n",
      "requête HTTP transmise, en attente de la réponse… 200 OK\n",
      "Taille : 18384171 (18M)\n",
      "Sauvegarde en : « kmnist-train-imgs.npz »\n",
      "\n",
      "kmnist-train-imgs.n 100%[===================>]  17,53M  2,12MB/s    ds 21s     \n",
      "\n",
      "2021-03-21 00:07:31 (854 KB/s) — « kmnist-train-imgs.npz » sauvegardé [18384171/18384171]\n",
      "\n",
      "--2021-03-21 00:07:31--  http://codh.rois.ac.jp/kmnist/dataset/kmnist/kmnist-train-labels.npz\n",
      "Résolution de codh.rois.ac.jp (codh.rois.ac.jp)… 136.187.88.58\n",
      "Connexion à codh.rois.ac.jp (codh.rois.ac.jp)|136.187.88.58|:80… connecté.\n",
      "requête HTTP transmise, en attente de la réponse… 200 OK\n",
      "Taille : 29700 (29K)\n",
      "Sauvegarde en : « kmnist-train-labels.npz »\n",
      "\n",
      "kmnist-train-labels 100%[===================>]  29,00K  95,2KB/s    ds 0,3s    \n",
      "\n",
      "2021-03-21 00:07:32 (95,2 KB/s) — « kmnist-train-labels.npz » sauvegardé [29700/29700]\n",
      "\n",
      "--2021-03-21 00:07:32--  http://codh.rois.ac.jp/kmnist/dataset/kmnist/kmnist-test-imgs.npz\n",
      "Résolution de codh.rois.ac.jp (codh.rois.ac.jp)… 136.187.88.58\n",
      "Connexion à codh.rois.ac.jp (codh.rois.ac.jp)|136.187.88.58|:80… connecté.\n",
      "requête HTTP transmise, en attente de la réponse… 200 OK\n",
      "Taille : 3079479 (2,9M)\n",
      "Sauvegarde en : « kmnist-test-imgs.npz »\n",
      "\n",
      "kmnist-test-imgs.np 100%[===================>]   2,94M   400KB/s    ds 8,2s    \n",
      "\n",
      "2021-03-21 00:07:41 (367 KB/s) — « kmnist-test-imgs.npz » sauvegardé [3079479/3079479]\n",
      "\n",
      "--2021-03-21 00:07:41--  http://codh.rois.ac.jp/kmnist/dataset/kmnist/kmnist-test-labels.npz\n",
      "Résolution de codh.rois.ac.jp (codh.rois.ac.jp)… 136.187.88.58\n",
      "Connexion à codh.rois.ac.jp (codh.rois.ac.jp)|136.187.88.58|:80… connecté.\n",
      "requête HTTP transmise, en attente de la réponse… 200 OK\n",
      "Taille : 5304 (5,2K)\n",
      "Sauvegarde en : « kmnist-test-labels.npz »\n",
      "\n",
      "kmnist-test-labels. 100%[===================>]   5,18K  --.-KB/s    ds 0s      \n",
      "\n",
      "2021-03-21 00:07:42 (35,6 MB/s) — « kmnist-test-labels.npz » sauvegardé [5304/5304]\n",
      "\n"
     ]
    }
   ],
   "source": [
    "# Training images & labels\n",
    "!wget -nc http://codh.rois.ac.jp/kmnist/dataset/kmnist/kmnist-train-imgs.npz\n",
    "!wget -nc http://codh.rois.ac.jp/kmnist/dataset/kmnist/kmnist-train-labels.npz\n",
    "    \n",
    "# Test images & labels\n",
    "!wget -nc http://codh.rois.ac.jp/kmnist/dataset/kmnist/kmnist-test-imgs.npz\n",
    "!wget -nc http://codh.rois.ac.jp/kmnist/dataset/kmnist/kmnist-test-labels.npz"
   ]
  },
  {
   "cell_type": "code",
   "execution_count": 51,
   "metadata": {},
   "outputs": [],
   "source": [
    "X_train = np.load('kmnist-train-imgs.npz')['arr_0']\n",
    "Y_train = np.load('kmnist-train-labels.npz')['arr_0']\n",
    "\n",
    "X_test = np.load('kmnist-test-imgs.npz')['arr_0']\n",
    "Y_test = np.load('kmnist-test-labels.npz')['arr_0']"
   ]
  },
  {
   "cell_type": "code",
   "execution_count": 62,
   "metadata": {},
   "outputs": [],
   "source": [
    "# Preprocess data (normalization)\n",
    "X_train = (X_train / 256)[...,None].astype('float32')\n",
    "Y_train = tf.keras.utils.to_categorical(Y_train, num_classes=10)\n",
    "\n",
    "X_test = (X_test / 256)[...,None].astype('float32')\n",
    "Y_test = tf.keras.utils.to_categorical(Y_test, num_classes=10)"
   ]
  }
 ],
 "metadata": {
  "kernelspec": {
   "display_name": "Python 3",
   "language": "python",
   "name": "python3"
  },
  "language_info": {
   "codemirror_mode": {
    "name": "ipython",
    "version": 3
   },
   "file_extension": ".py",
   "mimetype": "text/x-python",
   "name": "python",
   "nbconvert_exporter": "python",
   "pygments_lexer": "ipython3",
   "version": "3.8.3"
  }
 },
 "nbformat": 4,
 "nbformat_minor": 4
}
