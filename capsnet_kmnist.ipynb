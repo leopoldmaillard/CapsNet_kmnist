{
 "cells": [
  {
   "cell_type": "markdown",
   "metadata": {},
   "source": [
    "# Chargement du dataset Kuzushiji-MNIST"
   ]
  },
  {
   "cell_type": "markdown",
   "metadata": {},
   "source": [
    "**Motivation :** Kuzushiji-MNIST propose une alternative plus difficile à MNIST. En effet, la plupars des modèles de Deep Learning récents sont capables d'obtenir plus de 99.5% d'accuracy sur MNIST, c'est pourquoi il peut être intéressant d'évaluer un modèle sur des dataset plus challengeant. \n",
    "\n",
    "Kuzushiji-MNIST propose 70 000 images de caractères issus de la littérature japonaise classique. A l'instar de MNIST, le dataset original comporte 10 classes de caractères. K-MNIST est également décliné en 2 autres dataset plus difficiles :\n",
    "- Kuzushiji-49 contient 270,912 images divisées en 49 classes *imbalanced*.\n",
    "- Kuzushiji-Kanji contient 140 426 images divisées en 3832 classes de caractères très *imbalanced* : certains caractères ne sont présents qu'une et unique fois dans le dataset, rendant impossible un découpage *train* / *valid*."
   ]
  },
  {
   "cell_type": "markdown",
   "metadata": {},
   "source": [
    "### Download K-MNIST"
   ]
  },
  {
   "cell_type": "code",
   "execution_count": 1,
   "metadata": {},
   "outputs": [],
   "source": [
    "import numpy as np\n",
    "import matplotlib.pyplot as plt\n",
    "import tensorflow as tf"
   ]
  },
  {
   "cell_type": "code",
   "execution_count": 5,
   "metadata": {},
   "outputs": [
    {
     "name": "stdout",
     "output_type": "stream",
     "text": [
      "--2021-03-21 00:07:10--  http://codh.rois.ac.jp/kmnist/dataset/kmnist/kmnist-train-imgs.npz\n",
      "Résolution de codh.rois.ac.jp (codh.rois.ac.jp)… 136.187.88.58\n",
      "Connexion à codh.rois.ac.jp (codh.rois.ac.jp)|136.187.88.58|:80… connecté.\n",
      "requête HTTP transmise, en attente de la réponse… 200 OK\n",
      "Taille : 18384171 (18M)\n",
      "Sauvegarde en : « kmnist-train-imgs.npz »\n",
      "\n",
      "kmnist-train-imgs.n 100%[===================>]  17,53M  2,12MB/s    ds 21s     \n",
      "\n",
      "2021-03-21 00:07:31 (854 KB/s) — « kmnist-train-imgs.npz » sauvegardé [18384171/18384171]\n",
      "\n",
      "--2021-03-21 00:07:31--  http://codh.rois.ac.jp/kmnist/dataset/kmnist/kmnist-train-labels.npz\n",
      "Résolution de codh.rois.ac.jp (codh.rois.ac.jp)… 136.187.88.58\n",
      "Connexion à codh.rois.ac.jp (codh.rois.ac.jp)|136.187.88.58|:80… connecté.\n",
      "requête HTTP transmise, en attente de la réponse… 200 OK\n",
      "Taille : 29700 (29K)\n",
      "Sauvegarde en : « kmnist-train-labels.npz »\n",
      "\n",
      "kmnist-train-labels 100%[===================>]  29,00K  95,2KB/s    ds 0,3s    \n",
      "\n",
      "2021-03-21 00:07:32 (95,2 KB/s) — « kmnist-train-labels.npz » sauvegardé [29700/29700]\n",
      "\n",
      "--2021-03-21 00:07:32--  http://codh.rois.ac.jp/kmnist/dataset/kmnist/kmnist-test-imgs.npz\n",
      "Résolution de codh.rois.ac.jp (codh.rois.ac.jp)… 136.187.88.58\n",
      "Connexion à codh.rois.ac.jp (codh.rois.ac.jp)|136.187.88.58|:80… connecté.\n",
      "requête HTTP transmise, en attente de la réponse… 200 OK\n",
      "Taille : 3079479 (2,9M)\n",
      "Sauvegarde en : « kmnist-test-imgs.npz »\n",
      "\n",
      "kmnist-test-imgs.np 100%[===================>]   2,94M   400KB/s    ds 8,2s    \n",
      "\n",
      "2021-03-21 00:07:41 (367 KB/s) — « kmnist-test-imgs.npz » sauvegardé [3079479/3079479]\n",
      "\n",
      "--2021-03-21 00:07:41--  http://codh.rois.ac.jp/kmnist/dataset/kmnist/kmnist-test-labels.npz\n",
      "Résolution de codh.rois.ac.jp (codh.rois.ac.jp)… 136.187.88.58\n",
      "Connexion à codh.rois.ac.jp (codh.rois.ac.jp)|136.187.88.58|:80… connecté.\n",
      "requête HTTP transmise, en attente de la réponse… 200 OK\n",
      "Taille : 5304 (5,2K)\n",
      "Sauvegarde en : « kmnist-test-labels.npz »\n",
      "\n",
      "kmnist-test-labels. 100%[===================>]   5,18K  --.-KB/s    ds 0s      \n",
      "\n",
      "2021-03-21 00:07:42 (35,6 MB/s) — « kmnist-test-labels.npz » sauvegardé [5304/5304]\n",
      "\n"
     ]
    }
   ],
   "source": [
    "# Training images & labels\n",
    "!wget -nc http://codh.rois.ac.jp/kmnist/dataset/kmnist/kmnist-train-imgs.npz\n",
    "!wget -nc http://codh.rois.ac.jp/kmnist/dataset/kmnist/kmnist-train-labels.npz\n",
    "    \n",
    "# Test images & labels\n",
    "!wget -nc http://codh.rois.ac.jp/kmnist/dataset/kmnist/kmnist-test-imgs.npz\n",
    "!wget -nc http://codh.rois.ac.jp/kmnist/dataset/kmnist/kmnist-test-labels.npz"
   ]
  },
  {
   "cell_type": "code",
   "execution_count": 2,
   "metadata": {},
   "outputs": [],
   "source": [
    "X_train = np.load('data/kmnist-train-imgs.npz')['arr_0']\n",
    "Y_train = np.load('data/kmnist-train-labels.npz')['arr_0']\n",
    "\n",
    "X_test = np.load('data/kmnist-test-imgs.npz')['arr_0']\n",
    "Y_test = np.load('data/kmnist-test-labels.npz')['arr_0']"
   ]
  },
  {
   "cell_type": "code",
   "execution_count": 3,
   "metadata": {},
   "outputs": [],
   "source": [
    "# Preprocess data (normalization)\n",
    "X_train = (X_train / 256)[...,None].astype('float32')\n",
    "Y_train = tf.keras.utils.to_categorical(Y_train, num_classes=10)\n",
    "\n",
    "X_test = (X_test / 256)[...,None].astype('float32')\n",
    "Y_test = tf.keras.utils.to_categorical(Y_test, num_classes=10)"
   ]
  },
  {
   "cell_type": "markdown",
   "metadata": {},
   "source": [
    "### CapsNet"
   ]
  },
  {
   "cell_type": "code",
   "execution_count": 29,
   "metadata": {},
   "outputs": [],
   "source": [
    "from capsulelayers import CapsuleLayer, PrimaryCap, Length, Mask"
   ]
  },
  {
   "cell_type": "code",
   "execution_count": 34,
   "metadata": {},
   "outputs": [],
   "source": [
    "# All hyperparameters in a single cell\n",
    "epochs = 50\n",
    "batch_size = 100\n",
    "learning_rate = 0.001\n",
    "decay = 0.9 # to decrease learning rate at each epoch\n",
    "lam_recon = 0.392 # decoder loss coefficient\n",
    "routings = 3 # number of routing by agreement iterations"
   ]
  },
  {
   "cell_type": "code",
   "execution_count": 30,
   "metadata": {},
   "outputs": [],
   "source": [
    "def CapsNet(input_shape, n_class, routings):\n",
    "    \n",
    "    # input layer\n",
    "    x = tf.keras.layers.Input(input_shape)\n",
    "    \n",
    "    # layer 1 : regular Convolutionnal layer\n",
    "    conv1 = tf.keras.layers.Conv2D(filters = 256, kernel_size = (9,9), activation = 'relu', name = 'conv1')(x)\n",
    "    \n",
    "    # layer 2 : PrimaryCaps, which is a convolution layer with Squash activation\n",
    "    # dim_capsule : corresponds to the dimension of the capsule output vector\n",
    "    # n_channels : number of capsule types\n",
    "    primarycaps = PrimaryCap(conv1, dim_capsule = 8, n_channels = 32, kernel_size = 9, strides = 2, padding = 'valid')\n",
    "    \n",
    "    # layer 3 : CapsuleLayer (involves routing by agreement)\n",
    "    # each capsule in this layer represents one of the Kuzushiji symbol\n",
    "    kcaps = CapsuleLayer(num_capsule = n_class, dim_capsule = 16, routings = routings, name = 'kcaps')(primarycaps)\n",
    "    \n",
    "    # layer 4 : layer that takes the length of each capsule\n",
    "    out_caps = Length(name='capsnet')(kcaps)\n",
    "    \n",
    "    # Let's build the decoder network\n",
    "    # 2 reconstructions are performed :\n",
    "    # - first one is to reconstruct image according to the true label\n",
    "    # - second one is to reconstruct image according to the vector with maximal length (prediction)\n",
    "    y = tf.keras.layers.Input((n_class,))\n",
    "    masked_by_y = Mask()([kcaps, y])\n",
    "    masked = Mask()(kcaps)\n",
    "    \n",
    "    # Dense layers of the decoder architecture as described in the paper\n",
    "    decoder = tf.keras.models.Sequential(name = 'decoder')\n",
    "    decoder.add(tf.keras.layers.Dense(512, activation = 'relu', input_dim = 16 * n_class))\n",
    "    decoder.add(tf.keras.layers.Dense(1024, activation = 'relu'))\n",
    "    decoder.add(tf.keras.layers.Dense(input_shape[0]*input_shape[1], activation = 'sigmoid'))\n",
    "    decoded.add(tf.keras.layers.Reshape(input_shape, name = 'out_recon'))\n",
    "    \n",
    "    # Models used for training and evaluation\n",
    "    # train_model involves training of the decoder\n",
    "    # while evaluation model, given an input x, outputs his prediction and his reconstruction using the trained decoder\n",
    "    train_model = tf.keras.models.Model([x, y], [out_caps, decoder(masked_by_y)])\n",
    "    eval_model = tf.keras.models.Model(x, [out_caps, decoder(masked)])\n",
    "                \n",
    "    return train_model, eval_model"
   ]
  },
  {
   "cell_type": "code",
   "execution_count": 31,
   "metadata": {},
   "outputs": [],
   "source": [
    "# a custom loss is used for training\n",
    "def margin_loss(y_true, y_pred):\n",
    "    loss = y_true * tf.square(tf.maximum(0., 0.9 - y_pred)) + \\\n",
    "           0.5 * (1 - y_true) * tf.square(tf.maximum(0., y_pred - 0.1))\n",
    "    \n",
    "    return tf.reduce_mean(tf.reduce_sum(loss, 1))"
   ]
  },
  {
   "cell_type": "code",
   "execution_count": 35,
   "metadata": {},
   "outputs": [],
   "source": [
    "log = tf.keras.callbacks.CSVLogger('callbacks/log.csv')\n",
    "\n",
    "# weigths of the model that has the best validation accuracy are saved during training\n",
    "checkpoint = tf.keras.callbacks.ModelCheckpoint('callbacks/weights-{epoch:02d}.h5',\n",
    "                                                monitor = 'val_capsnet_acc', save_best_only=True, \n",
    "                                                save_weights_only=True, verbose=1)\n",
    "\n",
    "# learning rate is reduced during training for optimal gradient descent\n",
    "lr_decay = tf.keras.callbacks.LearningRateScheduler(lambda epoch : learning_rate * (decay ** epoch))"
   ]
  },
  {
   "cell_type": "code",
   "execution_count": null,
   "metadata": {},
   "outputs": [],
   "source": []
  }
 ],
 "metadata": {
  "kernelspec": {
   "display_name": "Python 3",
   "language": "python",
   "name": "python3"
  },
  "language_info": {
   "codemirror_mode": {
    "name": "ipython",
    "version": 3
   },
   "file_extension": ".py",
   "mimetype": "text/x-python",
   "name": "python",
   "nbconvert_exporter": "python",
   "pygments_lexer": "ipython3",
   "version": "3.8.3"
  }
 },
 "nbformat": 4,
 "nbformat_minor": 4
}
