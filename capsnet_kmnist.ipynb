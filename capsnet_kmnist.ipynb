{
  "nbformat": 4,
  "nbformat_minor": 0,
  "metadata": {
    "kernelspec": {
      "display_name": "Python 3",
      "language": "python",
      "name": "python3"
    },
    "language_info": {
      "codemirror_mode": {
        "name": "ipython",
        "version": 3
      },
      "file_extension": ".py",
      "mimetype": "text/x-python",
      "name": "python",
      "nbconvert_exporter": "python",
      "pygments_lexer": "ipython3",
      "version": "3.8.3"
    },
    "colab": {
      "name": "capsnet_kmnist.ipynb",
      "provenance": [],
      "toc_visible": true
    },
    "accelerator": "GPU"
  },
  "cells": [
    {
      "cell_type": "markdown",
      "metadata": {
        "id": "lRE0TiPBP2jS"
      },
      "source": [
        "# Chargement du dataset Kuzushiji-MNIST"
      ]
    },
    {
      "cell_type": "markdown",
      "metadata": {
        "id": "n511sJFrP2ja"
      },
      "source": [
        "**Motivation :** Kuzushiji-MNIST propose une alternative plus difficile à MNIST. En effet, la plupars des modèles de Deep Learning récents sont capables d'obtenir plus de 99.5% d'accuracy sur MNIST, c'est pourquoi il peut être intéressant d'évaluer un modèle sur des dataset plus challengeant. \n",
        "\n",
        "Kuzushiji-MNIST propose 70 000 images de caractères issus de la littérature japonaise classique. A l'instar de MNIST, le dataset original comporte 10 classes de caractères. K-MNIST est également décliné en 2 autres dataset plus difficiles :\n",
        "- Kuzushiji-49 contient 270,912 images divisées en 49 classes *imbalanced*.\n",
        "- Kuzushiji-Kanji contient 140 426 images divisées en 3832 classes de caractères très *imbalanced* : certains caractères ne sont présents qu'une et unique fois dans le dataset, rendant impossible un découpage *train* / *valid*."
      ]
    },
    {
      "cell_type": "markdown",
      "metadata": {
        "id": "aGBfvcpwP2jb"
      },
      "source": [
        "### Download K-MNIST"
      ]
    },
    {
      "cell_type": "code",
      "metadata": {
        "id": "CI01d_0OP2jc"
      },
      "source": [
        "import numpy as np\n",
        "import matplotlib.pyplot as plt\n",
        "import tensorflow as tf"
      ],
      "execution_count": 1,
      "outputs": []
    },
    {
      "cell_type": "code",
      "metadata": {
        "colab": {
          "base_uri": "https://localhost:8080/"
        },
        "id": "z-BUhDfYP2jc",
        "outputId": "85164d36-f506-4454-b756-7bf34b5703fa"
      },
      "source": [
        "!git clone https://github.com/leopoldmaillard/CapsNet_kmnist.git\n",
        "%cd CapsNet_kmnist/\n",
        "%mkdir callbacks"
      ],
      "execution_count": 2,
      "outputs": [
        {
          "output_type": "stream",
          "text": [
            "Cloning into 'CapsNet_kmnist'...\n",
            "remote: Enumerating objects: 87, done.\u001b[K\n",
            "remote: Counting objects: 100% (87/87), done.\u001b[K\n",
            "remote: Compressing objects: 100% (81/81), done.\u001b[K\n",
            "remote: Total 87 (delta 43), reused 22 (delta 4), pack-reused 0\u001b[K\n",
            "Unpacking objects: 100% (87/87), done.\n",
            "/content/CapsNet_kmnist\n"
          ],
          "name": "stdout"
        }
      ]
    },
    {
      "cell_type": "code",
      "metadata": {
        "id": "6TB5sHZdP2jd"
      },
      "source": [
        "X_train = np.load('data/kmnist-train-imgs.npz')['arr_0']\n",
        "Y_train = np.load('data/kmnist-train-labels.npz')['arr_0']\n",
        "\n",
        "X_test = np.load('data/kmnist-test-imgs.npz')['arr_0']\n",
        "Y_test = np.load('data/kmnist-test-labels.npz')['arr_0']"
      ],
      "execution_count": 3,
      "outputs": []
    },
    {
      "cell_type": "code",
      "metadata": {
        "id": "scYjV-yRP2jd"
      },
      "source": [
        "# Preprocess data (normalization)\n",
        "X_train = (X_train / 256)[...,None].astype('float32')\n",
        "Y_train = tf.keras.utils.to_categorical(Y_train, num_classes=10)\n",
        "\n",
        "X_test = (X_test / 256)[...,None].astype('float32')\n",
        "Y_test = tf.keras.utils.to_categorical(Y_test, num_classes=10)"
      ],
      "execution_count": 4,
      "outputs": []
    },
    {
      "cell_type": "code",
      "metadata": {
        "colab": {
          "base_uri": "https://localhost:8080/"
        },
        "id": "wdHLQLYNP2je",
        "outputId": "96c8e41c-9d94-4450-e20b-78147116bd62"
      },
      "source": [
        "X_train[0].shape"
      ],
      "execution_count": 5,
      "outputs": [
        {
          "output_type": "execute_result",
          "data": {
            "text/plain": [
              "(28, 28, 1)"
            ]
          },
          "metadata": {
            "tags": []
          },
          "execution_count": 5
        }
      ]
    },
    {
      "cell_type": "markdown",
      "metadata": {
        "id": "xgxrrOXnP2jf"
      },
      "source": [
        "### CapsNet"
      ]
    },
    {
      "cell_type": "code",
      "metadata": {
        "id": "PCsVJyz-P2jg"
      },
      "source": [
        "from capsulelayers import CapsuleLayer, PrimaryCap, Length, Mask"
      ],
      "execution_count": 6,
      "outputs": []
    },
    {
      "cell_type": "code",
      "metadata": {
        "id": "Qw0F9XtvP2jg"
      },
      "source": [
        "# All hyperparameters in a single cell\n",
        "epochs = 10\n",
        "batch_size = 100\n",
        "learning_rate = 0.001\n",
        "decay = 0.9 # to decrease learning rate at each epoch\n",
        "lam_recon = 0.392 # decoder loss coefficient\n",
        "n_routings = 3 # number of routing by agreement iterations\n",
        "n_class = 10"
      ],
      "execution_count": 7,
      "outputs": []
    },
    {
      "cell_type": "code",
      "metadata": {
        "id": "unriOcaOP2jg"
      },
      "source": [
        "def CapsNet(input_shape, n_class, routings, batch_size):\n",
        "    \n",
        "    # input layer\n",
        "    x = tf.keras.layers.Input(input_shape, batch_size = batch_size)\n",
        "    \n",
        "    # layer 1 : regular Convolutionnal layer\n",
        "    conv1 = tf.keras.layers.Conv2D(filters = 256, kernel_size = (9,9), activation = 'relu', name = 'conv1')(x)\n",
        "    \n",
        "    # layer 2 : PrimaryCaps, which is a convolution layer with Squash activation\n",
        "    # dim_capsule : corresponds to the dimension of the capsule output vector\n",
        "    # n_channels : number of capsule types\n",
        "    primarycaps = PrimaryCap(conv1, dim_capsule = 8, n_channels = 32, kernel_size = 9, strides = 2, padding = 'valid')\n",
        "    \n",
        "    # layer 3 : CapsuleLayer (involves routing by agreement)\n",
        "    # each capsule in this layer represents one of the Kuzushiji symbol\n",
        "    kcaps = CapsuleLayer(num_capsule = n_class, dim_capsule = 16, routings = routings, name = 'kcaps')(primarycaps)\n",
        "    \n",
        "    # layer 4 : layer that takes the length of each capsule\n",
        "    out_caps = Length(name='capsnet')(kcaps)\n",
        "    \n",
        "    # Let's build the decoder network\n",
        "    # 2 reconstructions are performed :\n",
        "    # - first one is to reconstruct image according to the true label\n",
        "    # - second one is to reconstruct image according to the vector with maximal length (prediction)\n",
        "    y = tf.keras.layers.Input((n_class,))\n",
        "    masked_by_y = Mask()([kcaps, y])\n",
        "    masked = Mask()(kcaps)\n",
        "    \n",
        "    # Dense layers of the decoder architecture as described in the paper\n",
        "    decoder = tf.keras.models.Sequential(name = 'decoder')\n",
        "    decoder.add(tf.keras.layers.Dense(512, activation = 'relu', input_dim = 16 * n_class))\n",
        "    decoder.add(tf.keras.layers.Dense(1024, activation = 'relu'))\n",
        "    decoder.add(tf.keras.layers.Dense(input_shape[0]*input_shape[1], activation = 'sigmoid'))\n",
        "    decoder.add(tf.keras.layers.Reshape(input_shape, name = 'out_recon'))\n",
        "    \n",
        "    # Models used for training and evaluation\n",
        "    # train_model involves training of the decoder\n",
        "    # while evaluation model, given an input x, outputs his prediction and his reconstruction using the trained decoder\n",
        "    train_model = tf.keras.models.Model([x, y], [out_caps, decoder(masked_by_y)])\n",
        "    eval_model = tf.keras.models.Model(x, [out_caps, decoder(masked)])\n",
        "                \n",
        "    return train_model, eval_model"
      ],
      "execution_count": 8,
      "outputs": []
    },
    {
      "cell_type": "code",
      "metadata": {
        "id": "mk9CI5COP2jh"
      },
      "source": [
        "# a custom loss is used for training\n",
        "def margin_loss(y_true, y_pred):\n",
        "    loss = y_true * tf.square(tf.maximum(0., 0.9 - y_pred)) + \\\n",
        "           0.5 * (1 - y_true) * tf.square(tf.maximum(0., y_pred - 0.1))\n",
        "    \n",
        "    return tf.reduce_mean(tf.reduce_sum(loss, 1))"
      ],
      "execution_count": 9,
      "outputs": []
    },
    {
      "cell_type": "code",
      "metadata": {
        "id": "q9VPocOcP2ji"
      },
      "source": [
        "log = tf.keras.callbacks.CSVLogger('callbacks/log.csv')\n",
        "\n",
        "# weigths of the model that has the best validation accuracy are saved during training\n",
        "checkpoint = tf.keras.callbacks.ModelCheckpoint('callbacks/weights-{epoch:02d}.h5',\n",
        "                                                monitor = 'val_capsnet_acc', save_best_only=True, \n",
        "                                                save_weights_only=True, verbose=1)\n",
        "\n",
        "# learning rate is reduced during training for optimal gradient descent\n",
        "lr_decay = tf.keras.callbacks.LearningRateScheduler(lambda epoch : learning_rate * (decay ** epoch))"
      ],
      "execution_count": 10,
      "outputs": []
    },
    {
      "cell_type": "code",
      "metadata": {
        "id": "f4UF8UcoP2ji"
      },
      "source": [
        "model, eval_model = CapsNet(input_shape = X_train[0].shape, n_class = n_class, \n",
        "                            routings = n_routings, batch_size = batch_size)"
      ],
      "execution_count": 11,
      "outputs": []
    },
    {
      "cell_type": "code",
      "metadata": {
        "colab": {
          "base_uri": "https://localhost:8080/"
        },
        "id": "FxPRkHOuP2jj",
        "outputId": "82303bd5-fd15-44e9-efb4-d5c02fb9d66c"
      },
      "source": [
        "model.summary()"
      ],
      "execution_count": 12,
      "outputs": [
        {
          "output_type": "stream",
          "text": [
            "Model: \"model\"\n",
            "__________________________________________________________________________________________________\n",
            "Layer (type)                    Output Shape         Param #     Connected to                     \n",
            "==================================================================================================\n",
            "input_1 (InputLayer)            [(100, 28, 28, 1)]   0                                            \n",
            "__________________________________________________________________________________________________\n",
            "conv1 (Conv2D)                  (100, 20, 20, 256)   20992       input_1[0][0]                    \n",
            "__________________________________________________________________________________________________\n",
            "primarycap_conv2d (Conv2D)      (100, 6, 6, 256)     5308672     conv1[0][0]                      \n",
            "__________________________________________________________________________________________________\n",
            "primarycap_reshape (Reshape)    (100, 1152, 8)       0           primarycap_conv2d[0][0]          \n",
            "__________________________________________________________________________________________________\n",
            "primarycap_squash (Lambda)      (100, 1152, 8)       0           primarycap_reshape[0][0]         \n",
            "__________________________________________________________________________________________________\n",
            "kcaps (CapsuleLayer)            (100, 10, 16)        1474560     primarycap_squash[0][0]          \n",
            "__________________________________________________________________________________________________\n",
            "input_2 (InputLayer)            [(None, 10)]         0                                            \n",
            "__________________________________________________________________________________________________\n",
            "mask (Mask)                     (100, 160)           0           kcaps[0][0]                      \n",
            "                                                                 input_2[0][0]                    \n",
            "__________________________________________________________________________________________________\n",
            "capsnet (Length)                (100, 10)            0           kcaps[0][0]                      \n",
            "__________________________________________________________________________________________________\n",
            "decoder (Sequential)            (None, 28, 28, 1)    1411344     mask[0][0]                       \n",
            "==================================================================================================\n",
            "Total params: 8,215,568\n",
            "Trainable params: 8,215,568\n",
            "Non-trainable params: 0\n",
            "__________________________________________________________________________________________________\n"
          ],
          "name": "stdout"
        }
      ]
    },
    {
      "cell_type": "code",
      "metadata": {
        "id": "HzOsX3HLP2jj"
      },
      "source": [
        "model.compile(optimizer = tf.keras.optimizers.Adam(lr = learning_rate), loss=[margin_loss, 'mse'],\n",
        "              loss_weights=[1, lam_recon], metrics={'capsnet': 'accuracy'})"
      ],
      "execution_count": 13,
      "outputs": []
    },
    {
      "cell_type": "code",
      "metadata": {
        "colab": {
          "base_uri": "https://localhost:8080/"
        },
        "id": "O-MV3beQP2jk",
        "outputId": "d91eff04-e6aa-4d2f-f9b3-62a3505a564b"
      },
      "source": [
        "history = model.fit([X_train, Y_train], [Y_train, X_train], batch_size = batch_size, epochs = epochs,\n",
        "              validation_data=([X_test, Y_test], [Y_test, X_test]), callbacks = [log, checkpoint, lr_decay])"
      ],
      "execution_count": 14,
      "outputs": [
        {
          "output_type": "stream",
          "text": [
            "Epoch 1/10\n",
            "600/600 [==============================] - 112s 134ms/step - loss: 0.7687 - capsnet_loss: 0.7202 - decoder_loss: 0.1237 - capsnet_accuracy: 0.2112 - val_loss: 0.1713 - val_capsnet_loss: 0.1376 - val_decoder_loss: 0.0861 - val_capsnet_accuracy: 0.8437\n",
            "WARNING:tensorflow:Can save best model only with val_capsnet_acc available, skipping.\n",
            "Epoch 2/10\n",
            "600/600 [==============================] - 81s 135ms/step - loss: 0.0845 - capsnet_loss: 0.0525 - decoder_loss: 0.0815 - capsnet_accuracy: 0.9561 - val_loss: 0.1126 - val_capsnet_loss: 0.0812 - val_decoder_loss: 0.0801 - val_capsnet_accuracy: 0.9171\n",
            "WARNING:tensorflow:Can save best model only with val_capsnet_acc available, skipping.\n",
            "Epoch 3/10\n",
            "600/600 [==============================] - 80s 134ms/step - loss: 0.0590 - capsnet_loss: 0.0293 - decoder_loss: 0.0757 - capsnet_accuracy: 0.9768 - val_loss: 0.0990 - val_capsnet_loss: 0.0688 - val_decoder_loss: 0.0770 - val_capsnet_accuracy: 0.9271\n",
            "WARNING:tensorflow:Can save best model only with val_capsnet_acc available, skipping.\n",
            "Epoch 4/10\n",
            "600/600 [==============================] - 81s 134ms/step - loss: 0.0480 - capsnet_loss: 0.0196 - decoder_loss: 0.0723 - capsnet_accuracy: 0.9866 - val_loss: 0.0927 - val_capsnet_loss: 0.0636 - val_decoder_loss: 0.0744 - val_capsnet_accuracy: 0.9354\n",
            "WARNING:tensorflow:Can save best model only with val_capsnet_acc available, skipping.\n",
            "Epoch 5/10\n",
            "600/600 [==============================] - 80s 133ms/step - loss: 0.0411 - capsnet_loss: 0.0140 - decoder_loss: 0.0692 - capsnet_accuracy: 0.9915 - val_loss: 0.0856 - val_capsnet_loss: 0.0569 - val_decoder_loss: 0.0731 - val_capsnet_accuracy: 0.9414\n",
            "WARNING:tensorflow:Can save best model only with val_capsnet_acc available, skipping.\n",
            "Epoch 6/10\n",
            "600/600 [==============================] - 81s 135ms/step - loss: 0.0364 - capsnet_loss: 0.0099 - decoder_loss: 0.0677 - capsnet_accuracy: 0.9946 - val_loss: 0.0842 - val_capsnet_loss: 0.0560 - val_decoder_loss: 0.0721 - val_capsnet_accuracy: 0.9414\n",
            "WARNING:tensorflow:Can save best model only with val_capsnet_acc available, skipping.\n",
            "Epoch 7/10\n",
            "600/600 [==============================] - 80s 133ms/step - loss: 0.0327 - capsnet_loss: 0.0067 - decoder_loss: 0.0663 - capsnet_accuracy: 0.9974 - val_loss: 0.0799 - val_capsnet_loss: 0.0521 - val_decoder_loss: 0.0710 - val_capsnet_accuracy: 0.9440\n",
            "WARNING:tensorflow:Can save best model only with val_capsnet_acc available, skipping.\n",
            "Epoch 8/10\n",
            "600/600 [==============================] - 81s 134ms/step - loss: 0.0306 - capsnet_loss: 0.0050 - decoder_loss: 0.0653 - capsnet_accuracy: 0.9983 - val_loss: 0.0768 - val_capsnet_loss: 0.0493 - val_decoder_loss: 0.0702 - val_capsnet_accuracy: 0.9482\n",
            "WARNING:tensorflow:Can save best model only with val_capsnet_acc available, skipping.\n",
            "Epoch 9/10\n",
            "600/600 [==============================] - 80s 134ms/step - loss: 0.0288 - capsnet_loss: 0.0036 - decoder_loss: 0.0644 - capsnet_accuracy: 0.9987 - val_loss: 0.0755 - val_capsnet_loss: 0.0483 - val_decoder_loss: 0.0695 - val_capsnet_accuracy: 0.9500\n",
            "WARNING:tensorflow:Can save best model only with val_capsnet_acc available, skipping.\n",
            "Epoch 10/10\n",
            "600/600 [==============================] - 81s 134ms/step - loss: 0.0272 - capsnet_loss: 0.0024 - decoder_loss: 0.0633 - capsnet_accuracy: 0.9994 - val_loss: 0.0740 - val_capsnet_loss: 0.0469 - val_decoder_loss: 0.0690 - val_capsnet_accuracy: 0.9517\n",
            "WARNING:tensorflow:Can save best model only with val_capsnet_acc available, skipping.\n"
          ],
          "name": "stdout"
        }
      ]
    },
    {
      "cell_type": "code",
      "metadata": {
        "colab": {
          "base_uri": "https://localhost:8080/",
          "height": 295
        },
        "id": "8acaA0xlP2jl",
        "outputId": "b2cd1f85-8f16-4421-8f9d-da6acbc89c13"
      },
      "source": [
        "plt.plot(history.history['capsnet_loss'])\n",
        "plt.plot(history.history['val_capsnet_loss'])\n",
        "plt.title('CapsNet Loss')\n",
        "plt.ylabel('Loss')\n",
        "plt.xlabel('epoch')\n",
        "plt.legend(['Train', 'Val'], loc='upper right')\n",
        "plt.show()"
      ],
      "execution_count": 20,
      "outputs": [
        {
          "output_type": "display_data",
          "data": {
            "image/png": "[encoded data removed]",
            "text/plain": [
              "<Figure size 432x288 with 1 Axes>"
            ]
          },
          "metadata": {
            "tags": [],
            "needs_background": "light"
          }
        }
      ]
    },
    {
      "cell_type": "code",
      "metadata": {
        "id": "-wRA1L9ciln8",
        "outputId": "09170c6a-8c15-4861-da54-f28c3e06ea50",
        "colab": {
          "base_uri": "https://localhost:8080/",
          "height": 295
        }
      },
      "source": [
        "plt.plot(history.history['capsnet_accuracy'][1:])\n",
        "plt.plot(history.history['val_capsnet_accuracy'][1:])\n",
        "plt.title('CapsNet Accuracy')\n",
        "plt.ylabel('Accuracy')\n",
        "plt.xlabel('epoch')\n",
        "plt.legend(['Train', 'Val'], loc='lower right')\n",
        "plt.show()"
      ],
      "execution_count": 25,
      "outputs": [
        {
          "output_type": "display_data",
          "data": {
            "image/png": "[encoded data removed]",
            "text/plain": [
              "<Figure size 432x288 with 1 Axes>"
            ]
          },
          "metadata": {
            "tags": [],
            "needs_background": "light"
          }
        }
      ]
    },
    {
      "cell_type": "code",
      "metadata": {
        "id": "AeYCIaG_j9Vg"
      },
      "source": [
        ""
      ],
      "execution_count": null,
      "outputs": []
    }
  ]
}